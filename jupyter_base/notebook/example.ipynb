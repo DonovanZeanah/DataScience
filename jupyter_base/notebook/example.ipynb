{
 "cells": [
  {
   "cell_type": "markdown",
   "id": "887f994b-5848-4814-b587-3204ea261e5d",
   "metadata": {},
   "source": [
    "# Hello World"
   ]
  },
  {
   "cell_type": "markdown",
   "id": "1ab55700-e7e6-4852-b393-50636e98c7be",
   "metadata": {},
   "source": [
    "# こんにちは。 せかい。"
   ]
  },
  {
   "cell_type": "markdown",
   "id": "4aaaa921-a96b-44b4-af41-93c4096a4367",
   "metadata": {},
   "source": [
    "# Ça va! Monde!"
   ]
  }
 ],
 "metadata": {
  "kernelspec": {
   "display_name": "Python 3 (ipykernel)",
   "language": "python",
   "name": "python3"
  },
  "language_info": {
   "codemirror_mode": {
    "name": "ipython",
    "version": 3
   },
   "file_extension": ".py",
   "mimetype": "text/x-python",
   "name": "python",
   "nbconvert_exporter": "python",
   "pygments_lexer": "ipython3",
   "version": "3.9.6"
  }
 },
 "nbformat": 4,
 "nbformat_minor": 5
}
